{
  "nbformat": 4,
  "nbformat_minor": 0,
  "metadata": {
    "colab": {
      "provenance": []
    },
    "kernelspec": {
      "name": "python3",
      "display_name": "Python 3"
    },
    "language_info": {
      "name": "python"
    }
  },
  "cells": [
    {
      "cell_type": "markdown",
      "source": [
        "## Theory Qustions\n"
      ],
      "metadata": {
        "id": "0lOdRlIbMAvD"
      }
    },
    {
      "cell_type": "markdown",
      "source": [
        "Q.1 What is Object-Oriented Programming (OOP)?\n",
        " - As the name suggests, Object-Oriented Programming or OOPs refers to languages that use objects in programming. Object-oriented programming aims to implement real-world entities like inheritance, hiding, polymorphism, etc in programming. The main aim of OOP is to bind together the data and the functions that operate on them so that no other part of the code can access this data except that function.\n",
        "\n",
        "Q.2 What is a class in OOP?\n",
        " - A class in OOP is a blueprint or template for creating objects. It defines the properties (attributes) and behaviors (methods) that the objects created from the class will have.\n",
        "\n",
        "Q.3 What is an object in OOP?\n",
        " - An object in OOP is an instance of a class. It represents a specific entity that combines data (attributes) and behavior (methods) defined by the class. Objects allow you to interact with the functionality provided by the class in a real-world context.\n",
        "\n",
        "Q.4 What is the difference between abstraction and encapsulation?\n",
        "\n",
        " - The difference between abstraction and encapsulation in OOP lies in their purpose and implementation:\n",
        "\n",
        "  - Abstraction\n",
        "\n",
        "(a)Definition: Focuses on hiding the complexity of a system by showing only the essential features to the user.\n",
        "\n",
        "(b)Purpose: Simplify code usage and improve focus on functionality rather than implementation details.\n",
        "\n",
        "(c)Implementation: Achieved using abstract classes, interfaces, or method overriding.\n",
        "\n",
        "(d)Example: A car's steering wheel lets you drive without knowing the internal working of the engine.\n",
        "\n",
        "\n",
        " - Encapsulation\n",
        "\n",
        " (a)Definition: Encapsulation is the bundling of data (attributes) and methods (functions) that operate on the data into a single unit, restricting direct access to some components.\n",
        "\n",
        "(b)Purpose: Protect the internal state of an object and ensure controlled access via public methods (getters/setters).\n",
        "\n",
        "(c)Implementation: Achieved using access modifiers like private, protected, and public.\n",
        "\n",
        "(d)Example: A car’s gear mechanism is hidden from the user; you can change gears but cannot directly manipulate its internal mechanism.\n",
        "  \n",
        "  - In short:\n",
        "\n",
        "Abstraction: Focuses on what a system does.\n",
        "Encapsulation: Focuses on how data and methods are organized and protected.\n",
        "\n",
        "Q.5What are dunder methods in Python?\n",
        "\n",
        " - Dunder methods (short for \"double underscore methods\") are special methods in Python that begin and end with double underscores (e.g., __init__, __str__, __add__).\n",
        "They enable custom behavior for built-in operations like object initialization, string representation, and operator overloading.\n",
        "\n",
        "Q.6 Explain the concept of inheritance in OOP.\n",
        "  \n",
        "  - Inheritance is a mechanism in OOP where one class (child or subclass) derives properties and behavior from another class (parent or superclass).\n",
        "It promotes code reuse and the creation of hierarchical relationships between classes.\n",
        "Types: Single, multiple, multilevel, hierarchical, and hybrid inheritance.\n",
        "\n",
        "\n",
        "Q.7 What is polymorphism in OOP?\n",
        "\n",
        " - Polymorphism allows objects of different classes to be treated as objects of a common superclass. It enables methods to perform different tasks based on the object's type.\n",
        "Achieved through method overriding, method overloading, and operator overloading.\n",
        "\n",
        "\n",
        "Q.8  How is encapsulation achieved in Python?\n",
        "\n",
        " - Encapsulation is achieved in Python by defining class attributes and methods as private or protected.\n",
        "Use a single underscore _ for protected members and double underscores __ for private members.\n",
        "Controlled access is provided using getters and setters.\n",
        "\n",
        "Q.9. What is a constructor in Python?\n",
        " - A constructor is a special method used to initialize an object when it is created.\n",
        "In Python, the constructor is defined as __init__.\n",
        "It allows setting initial values for an object's attributes.\n",
        "\n",
        "Q.10 What are class and static methods in Python?\n",
        "  - Class Methods: Methods that operate on the class itself, not instances. Declared with @classmethod and take cls as the first parameter.\n",
        "\n",
        "  - Static Methods: Methods that don’t depend on the class or instance. Declared with @staticmethod and do not take self or cls.\n",
        "\n",
        "Q.11  What is method overloading in Python?\n",
        " - Method overloading allows a method to perform different tasks based on the arguments passed.\n",
        "Python doesn’t directly support method overloading but achieves similar behavior using default arguments or *args/**kwargs.\n",
        "\n",
        "Q.12 What is method overriding in OOP?\n",
        " - Method overriding occurs when a subclass provides a specific implementation of a method that is already defined in its superclass.\n",
        "The overridden method in the subclass is invoked instead of the one in the superclass.\n",
        "\n",
        "Q.13 What is a property decorator in Python?\n",
        "  - The @property decorator allows you to define a method as a read-only attribute.\n",
        "It is used to control access to attributes without directly exposing them.\n",
        "\n",
        "Q.14Why is polymorphism important in OOP?\n",
        "  - Polymorphism promotes flexibility and reusability by allowing different objects to be treated uniformly.\n",
        "It enables a single interface to represent different underlying forms, making code easier to extend and maintain\n",
        "\n",
        "Q.15 What is an abstract class in Python?\n",
        " - An abstract class is a class that cannot be instantiated and often contains abstract methods (methods without implementation).\n",
        "Declared using ABC (Abstract Base Class) from the abc module.\n",
        "Used to define a blueprint for other classe\n",
        "\n",
        "Q.16 What are the advantages of OOP?\n",
        "\n",
        " (a) Modularity: Code is organized into classes and objects, improving readability and maintainability.\n",
        "\n",
        "(b) Code Reuse: Inheritance allows sharing and reusing code across classes.\n",
        "\n",
        "(c) Flexibility: Polymorphism enables handling different data types or classes through a uniform interface.\n",
        "\n",
        "(d) Encapsulation: Protects data and provides controlled access, ensuring robustness.\n",
        "\n",
        "(e) Abstraction: Hides complexity and shows only essential features to the user.\n",
        "\n",
        "Q.17 What is the difference between a class variable and an instance variable?\n",
        " - Class Variable: Shared by all instances of the class; defined at the class level.\n",
        "Example: species in the example below.\n",
        " - Instance Variable: Unique to each object; defined within methods using self.\n",
        "Example: name and age.\n",
        "\n",
        "\n",
        "class Animal:\n",
        "    species = \"Mammal\"  # Class variable\n",
        "\n",
        "    def __init__(self, name, age):\n",
        "        self.name = name  # Instance variable\n",
        "        self.age = age\n",
        "\n",
        "a1 = Animal(\"Dog\", 5)\n",
        "a2 = Animal(\"Cat\", 3)\n",
        "print(Animal.species)  # Mammal\n",
        "print(a1.name)  # Dog\n",
        "\n",
        "\n",
        "Q.18 What is multiple inheritance in Python?\n",
        " - Multiple inheritance allows a class to inherit from more than one parent class.\n",
        "This can lead to the Diamond Problem, resolved in Python using the Method Resolution Order (MRO).\n",
        "\n",
        "Q.19. What is the purpose of __str__ and __repr__ methods in Python?\n",
        "  \n",
        "  (a) __str__: Returns a human-readable (informal) string representation of an object, often for end users.\n",
        "  (b) __repr__: Returns an unambiguous (formal) string representation, often for developers.\n",
        "Q.20 What is the significance of the super() function in Python?\n",
        "  - super() is used to call a method from a parent class in the context of a child class.\n",
        "Helps in method overriding and ensures proper resolution in multiple inheritance using MRO.\n",
        "\n",
        "Q.21  What is the significance of the __del__ method in Python?\n",
        "\n",
        "\n",
        "  - __del__ is a destructor method called when an object is about to be destroyed.\n",
        "Used for cleanup tasks like releasing resources (e.g., closing files or network connections)\n",
        "\n",
        "\n",
        "Q22  What is the difference between @staticmethod and @classmethod in Python?\n",
        "  \n",
        "  - @staticmethod:\n",
        "\n",
        "Does not take self or cls as a parameter.\n",
        "Independent of the class or its instances.\n",
        "Used for utility methods.\n",
        "\n",
        " - @classmethod:\n",
        "\n",
        "Takes cls as the first parameter.\n",
        "Operates on the class level, often used to modify class-level attributes or create instances.\n",
        "\n",
        "Q23 How does polymorphism work in Python with inheritance?\n",
        "\n",
        " - Polymorphism in Python with inheritance allows objects of different classes to use a common interface, enabling dynamic behavior based on the object's type.\n",
        "Achieved through method overriding where subclasses implement methods defined in the parent class differently.\n",
        "\n",
        "Q24. What is method chaining in Python OOP?\n",
        "\n",
        "  - Method chaining is a technique where multiple methods are called on the same object sequentially in a single line of code.\n",
        "Each method returns the object itself (self) to enable chaining.\n",
        "Promotes clean and readable code.\n",
        "\n",
        "Q.25 What is the purpose of the __call__ method in Python?\n",
        "\n",
        "  - The __call__ method allows an instance of a class to be called as if it were a function.\n",
        "Useful for creating callable objects that can encapsulate functionality.\n"
      ],
      "metadata": {
        "id": "8Vyga37gMMUE"
      }
    },
    {
      "cell_type": "markdown",
      "source": [
        "## Practical Questions\n"
      ],
      "metadata": {
        "id": "crvLgbCAnVxV"
      }
    },
    {
      "cell_type": "code",
      "source": [
        "# Q.1 Create a parent class Animal with a method speak() that prints a generic message. Create a child class Dog that overrides the speak() method to print \"Bark!\".\n",
        "class Animal:\n",
        "    def speak1(self):\n",
        "        print(\"animal sound\")\n",
        "\n",
        "class Dog(Animal):\n",
        "    def speak(self):\n",
        "        print(\"Bark!\")"
      ],
      "metadata": {
        "id": "2vcnG7xeO3wq"
      },
      "execution_count": null,
      "outputs": []
    },
    {
      "cell_type": "code",
      "source": [
        "a = Dog()\n",
        "a.speak()"
      ],
      "metadata": {
        "colab": {
          "base_uri": "https://localhost:8080/"
        },
        "id": "J1yguqF5nxqB",
        "outputId": "0e5b289c-c3c9-4a0e-ea77-81da50ad78e7"
      },
      "execution_count": null,
      "outputs": [
        {
          "output_type": "stream",
          "name": "stdout",
          "text": [
            "Bark!\n"
          ]
        }
      ]
    },
    {
      "cell_type": "code",
      "source": [
        "# Q.2 Write a program to create an abstract class Shape with a method area(). Derive classes Circle and Rectangle from it and implement the area() method in both.\n",
        "\n",
        "from abc import ABC, abstractmethod\n",
        "\n",
        "# Abstract Base Class\n",
        "class Shape(ABC):\n",
        "    @abstractmethod\n",
        "    def area(self):\n",
        "        pass  # Abstract method to be implemented by subclasses\n",
        "\n",
        "# Subclass for Circle\n",
        "class Circle(Shape):\n",
        "    def __init__(self, radius):\n",
        "        self.radius = radius\n",
        "\n",
        "    def area(self):\n",
        "        return 3.14 * self.radius ** 2  # Area of a circle: π * r^2\n",
        "\n",
        "# Subclass for Rectangle\n",
        "class Rectangle(Shape):\n",
        "    def __init__(self, width, height):\n",
        "        self.width = width\n",
        "        self.height = height\n",
        "\n",
        "    def area(self):\n",
        "        return self.width * self.height  # Area of rectangle: width * height\n",
        "\n",
        "\n",
        "\n",
        "\n"
      ],
      "metadata": {
        "id": "ot_NTJ8EoiYd"
      },
      "execution_count": null,
      "outputs": []
    },
    {
      "cell_type": "code",
      "source": [
        "circle = Circle(6)\n",
        "circle.area()"
      ],
      "metadata": {
        "colab": {
          "base_uri": "https://localhost:8080/"
        },
        "id": "scCEamKDqvQs",
        "outputId": "12b51213-eb03-46e6-9f62-53b0c5e02c15"
      },
      "execution_count": null,
      "outputs": [
        {
          "output_type": "execute_result",
          "data": {
            "text/plain": [
              "113.04"
            ]
          },
          "metadata": {},
          "execution_count": 18
        }
      ]
    },
    {
      "cell_type": "code",
      "source": [
        "rectangle = Rectangle(4,5)\n",
        "rectangle.area()"
      ],
      "metadata": {
        "colab": {
          "base_uri": "https://localhost:8080/"
        },
        "id": "NsqQQcrMqvFj",
        "outputId": "c36bc9cf-14ef-4914-8a8b-b4207789ca18"
      },
      "execution_count": null,
      "outputs": [
        {
          "output_type": "execute_result",
          "data": {
            "text/plain": [
              "20"
            ]
          },
          "metadata": {},
          "execution_count": 16
        }
      ]
    },
    {
      "cell_type": "code",
      "source": [
        "#Q.3 Implement a multi-level inheritance scenario where a class Vehicle has an attribute type. Derive a class Car and further derive a class ElectricCar that adds a battery attribute\n",
        "class vehicle:\n",
        "  def vehicle_info(self, type):\n",
        "    print (type,\"this is vehicle class\")\n",
        "\n",
        "class car(vehicle):\n",
        "  def car_info(self, battery):\n",
        "    print(battery,\"this is car class\")\n",
        "\n",
        "class electric_car(vehicle):\n",
        "  def electric_car_info(self, battery):\n",
        "    print(battery,\"this is electric car class\")"
      ],
      "metadata": {
        "id": "4A07ReX4qvCM"
      },
      "execution_count": 4,
      "outputs": []
    },
    {
      "cell_type": "code",
      "source": [
        "a = vehicle()\n",
        "a.vehicle_info(\"this is vehicle\")"
      ],
      "metadata": {
        "colab": {
          "base_uri": "https://localhost:8080/"
        },
        "id": "xKY7ljaXDMf1",
        "outputId": "f6782f9c-027c-47c0-e43b-df5094d81f44"
      },
      "execution_count": 9,
      "outputs": [
        {
          "output_type": "stream",
          "name": "stdout",
          "text": [
            "this is vehicle this is vehicle class\n"
          ]
        }
      ]
    },
    {
      "cell_type": "code",
      "source": [
        "car1 = car()\n",
        "car1.car_info(\"this is car\")"
      ],
      "metadata": {
        "colab": {
          "base_uri": "https://localhost:8080/"
        },
        "id": "UFRIPJOiDTsu",
        "outputId": "edcd86c2-189c-427e-c3fb-661aa7df3083"
      },
      "execution_count": 11,
      "outputs": [
        {
          "output_type": "stream",
          "name": "stdout",
          "text": [
            "this is car this is car class\n"
          ]
        }
      ]
    },
    {
      "cell_type": "code",
      "source": [
        "car1.vehicle_info(\"this is vehicle\")"
      ],
      "metadata": {
        "colab": {
          "base_uri": "https://localhost:8080/"
        },
        "id": "gBkZs11-Dgl5",
        "outputId": "a41f580c-6724-4fea-c753-b7a5c3fc4bb3"
      },
      "execution_count": 12,
      "outputs": [
        {
          "output_type": "stream",
          "name": "stdout",
          "text": [
            "this is vehicle this is vehicle class\n"
          ]
        }
      ]
    },
    {
      "cell_type": "code",
      "source": [
        "car2 = electric_car()\n",
        "car2.electric_car_info(\"this is electric car\")"
      ],
      "metadata": {
        "colab": {
          "base_uri": "https://localhost:8080/"
        },
        "id": "KJSV5JqiDlD1",
        "outputId": "7adafc0e-2dad-4ff3-adb5-451483147ee2"
      },
      "execution_count": 13,
      "outputs": [
        {
          "output_type": "stream",
          "name": "stdout",
          "text": [
            "this is electric car this is electric car class\n"
          ]
        }
      ]
    },
    {
      "cell_type": "code",
      "source": [
        "# Q.4. Implement a multi-level inheritance scenario where a class Vehicle has an attribute type. Derive a class Car and further derive a class ElectricCar that add battery attributes.\n",
        "class vehicle:\n",
        "  def vehicle_info(self, type):\n",
        "    print (type,\"this is vehicle class\")\n",
        "\n",
        "class car(vehicle):\n",
        "  def car_info(self, battery):\n",
        "    print(battery,\"this is car class\")\n",
        "\n",
        "class electric_car(vehicle):\n",
        "  def electric_car_info(self, battery):\n",
        "    print(battery,\"this is electric car class\")"
      ],
      "metadata": {
        "id": "qEerxTJ5CY_x"
      },
      "execution_count": 5,
      "outputs": []
    },
    {
      "cell_type": "code",
      "source": [
        "a = vehicle()\n",
        "a.vehicle_info(\"this is vehicle\")"
      ],
      "metadata": {
        "colab": {
          "base_uri": "https://localhost:8080/"
        },
        "id": "QkWVbB3_CeMb",
        "outputId": "2770dbca-e797-4814-b807-58f414e350ab"
      },
      "execution_count": 7,
      "outputs": [
        {
          "output_type": "stream",
          "name": "stdout",
          "text": [
            "this is vehicle this is vehicle class\n"
          ]
        }
      ]
    },
    {
      "cell_type": "code",
      "source": [
        "# Q5 Write a program to demonstrate encapsulation by creating a class BankAccount with private attributes balance and methods to deposit, withdraw, and check balance\n",
        "\n",
        "class bank:\n",
        "  def __init__(self, balance):\n",
        "    self.__balance = balance\n",
        "  def deposit(self, amount):\n",
        "    self.__balance =  self.__balance  + amount\n",
        "  def withdraw (self, amount):\n",
        "    self.__balance =  self.__balance  - amount\n",
        "  def check_balance(self):\n",
        "      return self.__balance"
      ],
      "metadata": {
        "id": "uBcvhknAlh5U"
      },
      "execution_count": null,
      "outputs": []
    },
    {
      "cell_type": "code",
      "source": [
        "account1 = bank(20000)\n",
        "account1.check_balance()"
      ],
      "metadata": {
        "colab": {
          "base_uri": "https://localhost:8080/"
        },
        "id": "bcEd7HSKnXMQ",
        "outputId": "d07ca131-2d04-4f7b-c74f-e648a98df470"
      },
      "execution_count": null,
      "outputs": [
        {
          "output_type": "execute_result",
          "data": {
            "text/plain": [
              "20000"
            ]
          },
          "metadata": {},
          "execution_count": 11
        }
      ]
    },
    {
      "cell_type": "code",
      "source": [
        "account1.deposit(5000)"
      ],
      "metadata": {
        "id": "epWMb4chneOl"
      },
      "execution_count": null,
      "outputs": []
    },
    {
      "cell_type": "code",
      "source": [
        "account1.check_balance()"
      ],
      "metadata": {
        "colab": {
          "base_uri": "https://localhost:8080/"
        },
        "id": "Ds0E7qsZnml8",
        "outputId": "b6e3ad03-0b74-4163-f558-113def4f2853"
      },
      "execution_count": null,
      "outputs": [
        {
          "output_type": "execute_result",
          "data": {
            "text/plain": [
              "25000"
            ]
          },
          "metadata": {},
          "execution_count": 13
        }
      ]
    },
    {
      "cell_type": "code",
      "source": [
        "account1.withdraw(2000)"
      ],
      "metadata": {
        "id": "wm-Aov15n4sb"
      },
      "execution_count": null,
      "outputs": []
    },
    {
      "cell_type": "code",
      "source": [
        "account1.check_balance()"
      ],
      "metadata": {
        "colab": {
          "base_uri": "https://localhost:8080/"
        },
        "id": "CPqXzmoBop7l",
        "outputId": "f4a20049-9144-4261-f689-29c2b3be50b2"
      },
      "execution_count": null,
      "outputs": [
        {
          "output_type": "execute_result",
          "data": {
            "text/plain": [
              "23000"
            ]
          },
          "metadata": {},
          "execution_count": 15
        }
      ]
    },
    {
      "cell_type": "code",
      "source": [
        "# Q 6 . Demonstrate runtime polymorphism using a method play() in a base class Instrument. Derive classes Guitar and Piano that implement their own version of play()\n",
        "class Instrument:\n",
        "  def play(self):\n",
        "    print(\"Instrument sounds\")\n",
        "\n",
        "class Guitar(Instrument):\n",
        "  def play(self):\n",
        "    print(\"guitar sounds\")\n",
        "\n",
        "class Piano(Instrument):\n",
        "  def play(self):\n",
        "    print(\"piano sounds\")\n"
      ],
      "metadata": {
        "id": "nQWIt_c5E3By"
      },
      "execution_count": 14,
      "outputs": []
    },
    {
      "cell_type": "code",
      "source": [
        "sound1 = Instrument()\n",
        "sound1.play()"
      ],
      "metadata": {
        "colab": {
          "base_uri": "https://localhost:8080/"
        },
        "id": "StHxXhlGGxqC",
        "outputId": "bfadd055-bd18-46f9-b45e-cd3c84217631"
      },
      "execution_count": 15,
      "outputs": [
        {
          "output_type": "stream",
          "name": "stdout",
          "text": [
            "Instrument sounds\n"
          ]
        }
      ]
    },
    {
      "cell_type": "code",
      "source": [
        "guitar = Guitar()\n",
        "guitar.play()"
      ],
      "metadata": {
        "colab": {
          "base_uri": "https://localhost:8080/"
        },
        "id": "eIHLqfE7G9p5",
        "outputId": "958f5fc0-0369-47ab-a838-1caef02b6e72"
      },
      "execution_count": 17,
      "outputs": [
        {
          "output_type": "stream",
          "name": "stdout",
          "text": [
            "guitar sounds\n"
          ]
        }
      ]
    },
    {
      "cell_type": "code",
      "source": [
        "piano = Piano()\n",
        "piano.play()"
      ],
      "metadata": {
        "colab": {
          "base_uri": "https://localhost:8080/"
        },
        "id": "1pYgeCfXHNCM",
        "outputId": "a11e4338-18fb-42f3-8f5c-ee6bd96aa7c8"
      },
      "execution_count": 18,
      "outputs": [
        {
          "output_type": "stream",
          "name": "stdout",
          "text": [
            "piano sounds\n"
          ]
        }
      ]
    },
    {
      "cell_type": "code",
      "source": [
        "# Q 7 Create a class MathOperations with a class method add_numbers() to add two numbers and a static method subtract_numbers() to subtract two numbers.\n",
        "class MathOperations:\n",
        "  @classmethod\n",
        "  def add (cls,x,y):\n",
        "    return x+y\n",
        "\n",
        "operation = MathOperations()\n",
        "operation.add(2,3)"
      ],
      "metadata": {
        "colab": {
          "base_uri": "https://localhost:8080/"
        },
        "id": "dY-PLwlnTxGE",
        "outputId": "df2a1508-ce62-446a-8798-66559c770646"
      },
      "execution_count": null,
      "outputs": [
        {
          "output_type": "execute_result",
          "data": {
            "text/plain": [
              "5"
            ]
          },
          "metadata": {},
          "execution_count": 43
        }
      ]
    },
    {
      "cell_type": "code",
      "source": [
        "class numbers:\n",
        " @staticmethod\n",
        " def subtract(x,y):\n",
        "      return x-y"
      ],
      "metadata": {
        "id": "m9N_R-oipxG3"
      },
      "execution_count": null,
      "outputs": []
    },
    {
      "cell_type": "code",
      "source": [
        "numbers.subtract(20,2)"
      ],
      "metadata": {
        "colab": {
          "base_uri": "https://localhost:8080/"
        },
        "id": "8HoEvhJVp52z",
        "outputId": "752f2aff-54f0-406a-9987-9d8fb35f006b"
      },
      "execution_count": null,
      "outputs": [
        {
          "output_type": "execute_result",
          "data": {
            "text/plain": [
              "18"
            ]
          },
          "metadata": {},
          "execution_count": 27
        }
      ]
    },
    {
      "cell_type": "code",
      "source": [
        "# Q 8 mplement a class Person with a class method to count the total number of persons created.\n",
        "\n",
        "class person:\n",
        "    total_person = 0\n",
        "\n",
        "    def __init__(self,name):\n",
        "     self.name = name\n",
        "     person.total_person = person.total_person+1\n",
        "\n",
        "    @classmethod\n",
        "    def count_person(cls):\n",
        "        return cls.total_person\n",
        "\n",
        "\n"
      ],
      "metadata": {
        "id": "3JN0mrGKqqJt"
      },
      "execution_count": null,
      "outputs": []
    },
    {
      "cell_type": "code",
      "source": [
        "person1 = person(\"ajay\")\n",
        "person2 = person(\"vijay\")\n"
      ],
      "metadata": {
        "id": "IpoAJRkHtruU"
      },
      "execution_count": null,
      "outputs": []
    },
    {
      "cell_type": "code",
      "source": [
        "person.total_person"
      ],
      "metadata": {
        "colab": {
          "base_uri": "https://localhost:8080/"
        },
        "id": "wbLn7k9zx-J2",
        "outputId": "0bcf9655-de4a-4bd6-dc0f-cfd3a89acd15"
      },
      "execution_count": null,
      "outputs": [
        {
          "output_type": "execute_result",
          "data": {
            "text/plain": [
              "2"
            ]
          },
          "metadata": {},
          "execution_count": 55
        }
      ]
    },
    {
      "cell_type": "code",
      "source": [
        "# Q 9  Write a class Fraction with attributes numerator and denominator. Override the str method to display the fraction as \"numerator/denominator\".\n",
        "class fraction:\n",
        "  def __init__(self, numerator, denominator):\n",
        "    self.numerator = numerator\n",
        "    self.denominator = denominator\n",
        "  def __str__(self):\n",
        "    return f\"{self.numerator}/{self.denominator}\""
      ],
      "metadata": {
        "id": "fwZve8g5yBE0"
      },
      "execution_count": null,
      "outputs": []
    },
    {
      "cell_type": "code",
      "source": [
        "frac = fraction(2,3)\n",
        "print(frac)\n"
      ],
      "metadata": {
        "colab": {
          "base_uri": "https://localhost:8080/"
        },
        "id": "YAr1Ekkfyk4K",
        "outputId": "f9be65ff-4117-476f-e95e-975a96fabb77"
      },
      "execution_count": null,
      "outputs": [
        {
          "output_type": "stream",
          "name": "stdout",
          "text": [
            "2/3\n"
          ]
        }
      ]
    },
    {
      "cell_type": "code",
      "source": [
        "# Q10 Demonstrate operator overloading by creating a class Vector and overriding the add method to add two vecctors.\n",
        "class Vector:\n",
        "   def __init__(self, x, y):\n",
        "          self.x = x\n",
        "          self.y = y\n",
        "   def __add__(self, other):\n",
        "     return Vector(self.x + other.x, self.y + other.y)"
      ],
      "metadata": {
        "id": "Fl40k7AKyk0u"
      },
      "execution_count": null,
      "outputs": []
    },
    {
      "cell_type": "code",
      "source": [
        "v1 = Vector(6, 2)\n",
        "v2 = Vector(3, 4)\n",
        "result = v1 + v2\n",
        "print(result.x, result.y)"
      ],
      "metadata": {
        "colab": {
          "base_uri": "https://localhost:8080/"
        },
        "id": "uEE5gkjvykxq",
        "outputId": "d43d5be9-4ddb-4b32-d4d0-758a75f0d730"
      },
      "execution_count": null,
      "outputs": [
        {
          "output_type": "stream",
          "name": "stdout",
          "text": [
            "9 6\n"
          ]
        }
      ]
    },
    {
      "cell_type": "code",
      "source": [
        "# Q11 Create a class Person with attributes name and age. Add a method greet() that prints \"Hello, my name is {name} and I am {age} years old.\"\n",
        "class person:\n",
        "  def __init__(self, name, age):\n",
        "    self.name = name\n",
        "    self.age = age\n",
        "  def greet(self):\n",
        "      print(f\"Hello, my name is {self.name} and I am {self.age} years old.\")\n"
      ],
      "metadata": {
        "id": "C4NFGvE_1bWS"
      },
      "execution_count": null,
      "outputs": []
    },
    {
      "cell_type": "code",
      "source": [
        "person1 = person(\"divya\", 27)\n",
        "person1.greet()"
      ],
      "metadata": {
        "colab": {
          "base_uri": "https://localhost:8080/"
        },
        "id": "bUdfq9Cr1bZk",
        "outputId": "f692308b-9b2a-4dc8-b72f-07f3f6ca4cc8"
      },
      "execution_count": null,
      "outputs": [
        {
          "output_type": "stream",
          "name": "stdout",
          "text": [
            "Hello, my name is divya and I am 27 years old.\n"
          ]
        }
      ]
    },
    {
      "cell_type": "code",
      "source": [
        "# Q 12  Implement a class Student with attributes name and grades. Create a method average_grade() to  the average of the grades\n",
        "class student:\n",
        "  def __init__(self,name, grades):\n",
        "    self.name = name\n",
        "    self.grades = grades\n",
        "\n",
        "  def average_grade(self):\n",
        "      return sum (self.grades)/len(self.grades)"
      ],
      "metadata": {
        "id": "wcdWrqih1bdK"
      },
      "execution_count": null,
      "outputs": []
    },
    {
      "cell_type": "code",
      "source": [
        "stud = student(\"divya\", [40,50,10,100])\n",
        "stud.average_grade()"
      ],
      "metadata": {
        "id": "jE2KV4fa1bj6",
        "colab": {
          "base_uri": "https://localhost:8080/"
        },
        "outputId": "306afbf4-3fe3-4f49-f15d-6de1e2ab3b11"
      },
      "execution_count": null,
      "outputs": [
        {
          "output_type": "execute_result",
          "data": {
            "text/plain": [
              "50.0"
            ]
          },
          "metadata": {},
          "execution_count": 13
        }
      ]
    },
    {
      "cell_type": "code",
      "source": [
        "# Q13  Create a class Rectangle with methods set_dimensions() to set the dimensions and area() to calculate the area.\n",
        "class Rectangle:\n",
        "    def __init__(self, length, width):\n",
        "        self.length = length\n",
        "        self.width = width\n",
        "\n",
        "    def area(self):\n",
        "      length = self.length\n",
        "      width = self.width\n",
        "      return length * width\n"
      ],
      "metadata": {
        "id": "6SA7S-BdQA0B"
      },
      "execution_count": null,
      "outputs": []
    },
    {
      "cell_type": "code",
      "source": [
        "area = Rectangle(4,5)\n",
        "area.area()"
      ],
      "metadata": {
        "colab": {
          "base_uri": "https://localhost:8080/"
        },
        "id": "2W3nCJm8QAwp",
        "outputId": "c232ccf8-8fd2-44d4-b39c-3aa596336592"
      },
      "execution_count": null,
      "outputs": [
        {
          "output_type": "execute_result",
          "data": {
            "text/plain": [
              "20"
            ]
          },
          "metadata": {},
          "execution_count": 20
        }
      ]
    },
    {
      "cell_type": "code",
      "source": [
        "# Q14. Create a class Employee with a method calculate_salary() that computes the salary based on hours worked and hourly rate. Create a derived class Manager that adds a bonus to the salary.\n",
        "class Employee:\n",
        "  def __init__(self, name, hours_worked,hourly_rate):\n",
        "    self.name = name\n",
        "    self.hour_worked = hours_worked\n",
        "    self.hourly_rate = hourly_rate\n",
        "\n",
        "class manager(Employee):\n",
        "    def __init__(self, name, hours_worked, hourly_rate, bonus):\n",
        "      super().__init__(name, hours_worked, hourly_rate)\n",
        "      self.bonus = bonus\n",
        "\n"
      ],
      "metadata": {
        "id": "8eJjHtxmUHfa"
      },
      "execution_count": null,
      "outputs": []
    },
    {
      "cell_type": "code",
      "source": [
        "employee = Employee(\"divya\" , 8, 100)\n",
        "employee.name"
      ],
      "metadata": {
        "colab": {
          "base_uri": "https://localhost:8080/",
          "height": 35
        },
        "id": "PqpHlZ2CSBDf",
        "outputId": "bfde6f51-1fdc-48db-e3d9-027ee7e46873"
      },
      "execution_count": null,
      "outputs": [
        {
          "output_type": "execute_result",
          "data": {
            "text/plain": [
              "'divya'"
            ],
            "application/vnd.google.colaboratory.intrinsic+json": {
              "type": "string"
            }
          },
          "metadata": {},
          "execution_count": 34
        }
      ]
    },
    {
      "cell_type": "code",
      "source": [
        "employee.hour_worked"
      ],
      "metadata": {
        "colab": {
          "base_uri": "https://localhost:8080/"
        },
        "id": "5zufcoImSAzA",
        "outputId": "e9c68d6b-715e-4437-ba84-30bb2ba6958d"
      },
      "execution_count": null,
      "outputs": [
        {
          "output_type": "execute_result",
          "data": {
            "text/plain": [
              "8"
            ]
          },
          "metadata": {},
          "execution_count": 37
        }
      ]
    },
    {
      "cell_type": "code",
      "source": [
        "employee1 = manager( \"divya\", 8, 100,500)"
      ],
      "metadata": {
        "id": "F10-GKZvSlDT"
      },
      "execution_count": null,
      "outputs": []
    },
    {
      "cell_type": "code",
      "source": [
        "employee1.bonus"
      ],
      "metadata": {
        "colab": {
          "base_uri": "https://localhost:8080/"
        },
        "id": "AS0-aE3ZSk5n",
        "outputId": "013b786d-c0e8-415e-877e-b672d297eaba"
      },
      "execution_count": null,
      "outputs": [
        {
          "output_type": "execute_result",
          "data": {
            "text/plain": [
              "500"
            ]
          },
          "metadata": {},
          "execution_count": 39
        }
      ]
    },
    {
      "cell_type": "code",
      "source": [
        "employee1.hourly_rate"
      ],
      "metadata": {
        "colab": {
          "base_uri": "https://localhost:8080/"
        },
        "id": "r39NjevjSzoH",
        "outputId": "3bfb438b-a030-4fa5-b6e9-50d33aae4d3c"
      },
      "execution_count": null,
      "outputs": [
        {
          "output_type": "execute_result",
          "data": {
            "text/plain": [
              "100"
            ]
          },
          "metadata": {},
          "execution_count": 40
        }
      ]
    },
    {
      "cell_type": "code",
      "source": [
        " # Q 15  Create a class Product with attributes name, price, and quantity. Implement a method total_price() that calculates the total price of the product.\n",
        "class product:\n",
        "  def __init__(self,name,price,quantity):\n",
        "      self.name = name\n",
        "      self.price = price\n",
        "      self.quantity = quantity\n",
        "\n",
        "  def total_price(self):\n",
        "    return self.price * self.quantity\n"
      ],
      "metadata": {
        "id": "yp9GYKLtFYf1"
      },
      "execution_count": null,
      "outputs": []
    },
    {
      "cell_type": "code",
      "source": [
        "product_1 = product(\"pen\" , 10,5 )\n",
        "product_1.total_price()"
      ],
      "metadata": {
        "colab": {
          "base_uri": "https://localhost:8080/"
        },
        "id": "0rpoQnzHGHZD",
        "outputId": "dd9561ac-7d8d-4b5c-8b03-324d135c74d4"
      },
      "execution_count": null,
      "outputs": [
        {
          "output_type": "execute_result",
          "data": {
            "text/plain": [
              "50"
            ]
          },
          "metadata": {},
          "execution_count": 7
        }
      ]
    },
    {
      "cell_type": "code",
      "source": [
        "# Q 16 . Create a class Animal with an abstract method sound(). Create two derived classes Cow and Sheep that implement the sound() method.\n",
        "import abc\n",
        "class Animal:\n",
        "\n",
        "    @abc.abstractmethod\n",
        "    def sound(self):\n",
        "      pass\n",
        "\n",
        "class cow(Animal):\n",
        "  def sound(self):\n",
        "    return \"moo!\"\n",
        "\n",
        "class sheep(Animal):\n",
        "  def sound(self):\n",
        "    return \"baa!\"\n",
        "\n"
      ],
      "metadata": {
        "id": "IHMJTLqPGZUQ"
      },
      "execution_count": null,
      "outputs": []
    },
    {
      "cell_type": "code",
      "source": [
        "shape1 = Animal()\n",
        "shape1.sound\n"
      ],
      "metadata": {
        "colab": {
          "base_uri": "https://localhost:8080/",
          "height": 103
        },
        "id": "rwcXbJ2aKDDA",
        "outputId": "d548f83c-c8bf-452c-b67d-c3755f598319"
      },
      "execution_count": null,
      "outputs": [
        {
          "output_type": "execute_result",
          "data": {
            "text/plain": [
              "<bound method Animal.sound of <__main__.Animal object at 0x7932ed4f95a0>>"
            ],
            "text/html": [
              "<div style=\"max-width:800px; border: 1px solid var(--colab-border-color);\"><style>\n",
              "      pre.function-repr-contents {\n",
              "        overflow-x: auto;\n",
              "        padding: 8px 12px;\n",
              "        max-height: 500px;\n",
              "      }\n",
              "\n",
              "      pre.function-repr-contents.function-repr-contents-collapsed {\n",
              "        cursor: pointer;\n",
              "        max-height: 100px;\n",
              "      }\n",
              "    </style>\n",
              "    <pre style=\"white-space: initial; background:\n",
              "         var(--colab-secondary-surface-color); padding: 8px 12px;\n",
              "         border-bottom: 1px solid var(--colab-border-color);\"><b>Animal.sound</b><br/>def sound()</pre><pre class=\"function-repr-contents function-repr-contents-collapsed\" style=\"\"><a class=\"filepath\" style=\"display:none\" href=\"#\">/content/&lt;ipython-input-10-20ccd9783215&gt;</a>&lt;no docstring&gt;</pre></div>"
            ]
          },
          "metadata": {},
          "execution_count": 11
        }
      ]
    },
    {
      "cell_type": "code",
      "source": [
        "c = cow()\n",
        "c.sound()"
      ],
      "metadata": {
        "colab": {
          "base_uri": "https://localhost:8080/",
          "height": 35
        },
        "id": "DnECWAlPK9IZ",
        "outputId": "24938913-48f4-4984-e07e-72e66725938e"
      },
      "execution_count": null,
      "outputs": [
        {
          "output_type": "execute_result",
          "data": {
            "text/plain": [
              "'moo!'"
            ],
            "application/vnd.google.colaboratory.intrinsic+json": {
              "type": "string"
            }
          },
          "metadata": {},
          "execution_count": 13
        }
      ]
    },
    {
      "cell_type": "code",
      "source": [
        "d = sheep()\n",
        "d.sound()"
      ],
      "metadata": {
        "colab": {
          "base_uri": "https://localhost:8080/",
          "height": 35
        },
        "id": "e86c_addLKfc",
        "outputId": "82b9b9cd-f9c2-43aa-8389-74e7375c0c82"
      },
      "execution_count": null,
      "outputs": [
        {
          "output_type": "execute_result",
          "data": {
            "text/plain": [
              "'baa!'"
            ],
            "application/vnd.google.colaboratory.intrinsic+json": {
              "type": "string"
            }
          },
          "metadata": {},
          "execution_count": 14
        }
      ]
    },
    {
      "cell_type": "code",
      "source": [
        "# Q 17. Create a class Book with attributes title, author, and year_published. Add a method get_book_info() that returns a formatted string with the book's details\n",
        "class book:\n",
        "  def __init__(self, title,author,year_published):\n",
        "    self.title = title\n",
        "    self.author = author\n",
        "    self.year_published = year_published\n",
        "\n",
        "  def get_book_info(self):\n",
        "      return f\"title: {self.title}, author: {self.author}, year_published: {self.year_published}\""
      ],
      "metadata": {
        "id": "lWsxerQiL15G"
      },
      "execution_count": null,
      "outputs": []
    },
    {
      "cell_type": "code",
      "source": [
        "book1 = book(\"python\", \"divya\", 2023)\n",
        "book1.get_book_info()"
      ],
      "metadata": {
        "colab": {
          "base_uri": "https://localhost:8080/",
          "height": 35
        },
        "id": "I3BJ_nbOM_xb",
        "outputId": "eece0e9a-d444-462f-ea3a-08bf5685d446"
      },
      "execution_count": null,
      "outputs": [
        {
          "output_type": "execute_result",
          "data": {
            "text/plain": [
              "'title: python, author: divya, year_published: 2023'"
            ],
            "application/vnd.google.colaboratory.intrinsic+json": {
              "type": "string"
            }
          },
          "metadata": {},
          "execution_count": 18
        }
      ]
    },
    {
      "cell_type": "code",
      "source": [
        " # Q.18 Create a class House with attributes address and price. Create a derived class Mansion that adds an attribute number_of_rooms.\n",
        "class House:\n",
        "  def __init__(self , address, price):\n",
        "    self.address = address\n",
        "    self.price = price\n",
        "\n",
        "class mansion(House):\n",
        "  def __init__(self, address , price, number_of_rooms):\n",
        "    super(). __init__ (address, price)\n",
        "    self.number_of_rooms = number_of_rooms\n"
      ],
      "metadata": {
        "id": "Nzkmxw53NC1Y"
      },
      "execution_count": null,
      "outputs": []
    },
    {
      "cell_type": "code",
      "source": [
        "house = House(\"wz-17\", 20000)\n",
        "house.address"
      ],
      "metadata": {
        "colab": {
          "base_uri": "https://localhost:8080/",
          "height": 35
        },
        "id": "r8BfMgvQNo2Q",
        "outputId": "9a828aa8-05d4-4ea9-8672-dfd268b487bb"
      },
      "execution_count": null,
      "outputs": [
        {
          "output_type": "execute_result",
          "data": {
            "text/plain": [
              "'wz-17'"
            ],
            "application/vnd.google.colaboratory.intrinsic+json": {
              "type": "string"
            }
          },
          "metadata": {},
          "execution_count": 27
        }
      ]
    },
    {
      "cell_type": "code",
      "source": [
        "house1 = mansion('wz 17', 20000 , 4 )\n",
        "house1.number_of_rooms"
      ],
      "metadata": {
        "colab": {
          "base_uri": "https://localhost:8080/"
        },
        "id": "E_IKlTHDO696",
        "outputId": "b37ffeeb-99d4-4543-8388-5462386374b2"
      },
      "execution_count": null,
      "outputs": [
        {
          "output_type": "execute_result",
          "data": {
            "text/plain": [
              "4"
            ]
          },
          "metadata": {},
          "execution_count": 29
        }
      ]
    },
    {
      "cell_type": "code",
      "source": [
        "house1.price"
      ],
      "metadata": {
        "colab": {
          "base_uri": "https://localhost:8080/"
        },
        "id": "ViVirmW4Ppp_",
        "outputId": "ead55031-1d0d-4d89-ee66-57068b086363"
      },
      "execution_count": null,
      "outputs": [
        {
          "output_type": "execute_result",
          "data": {
            "text/plain": [
              "20000"
            ]
          },
          "metadata": {},
          "execution_count": 30
        }
      ]
    },
    {
      "cell_type": "code",
      "source": [
        "house1.address"
      ],
      "metadata": {
        "colab": {
          "base_uri": "https://localhost:8080/",
          "height": 35
        },
        "id": "9kaXwhluPuvL",
        "outputId": "1f2adff6-adbf-43e1-8e53-498028ccb80d"
      },
      "execution_count": null,
      "outputs": [
        {
          "output_type": "execute_result",
          "data": {
            "text/plain": [
              "'wz 17'"
            ],
            "application/vnd.google.colaboratory.intrinsic+json": {
              "type": "string"
            }
          },
          "metadata": {},
          "execution_count": 31
        }
      ]
    },
    {
      "cell_type": "code",
      "source": [],
      "metadata": {
        "id": "kN_Z51pjPxR7"
      },
      "execution_count": null,
      "outputs": []
    },
    {
      "cell_type": "markdown",
      "source": [
        "## Thank You"
      ],
      "metadata": {
        "id": "icbPjoxePzVZ"
      }
    },
    {
      "cell_type": "code",
      "source": [],
      "metadata": {
        "id": "wu92wFzlP5Qy"
      },
      "execution_count": null,
      "outputs": []
    }
  ]
}